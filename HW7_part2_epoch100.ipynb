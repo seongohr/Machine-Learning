{
 "cells": [
  {
   "cell_type": "markdown",
   "metadata": {
    "colab_type": "text",
    "id": "Lm_6GybH-RII"
   },
   "source": [
    "## 2. (Deep) CNNs for Image Colorization"
   ]
  },
  {
   "cell_type": "code",
   "execution_count": 1,
   "metadata": {
    "colab": {},
    "colab_type": "code",
    "id": "YzRM2rz-3tiH"
   },
   "outputs": [
    {
     "name": "stderr",
     "output_type": "stream",
     "text": [
      "Using TensorFlow backend.\n"
     ]
    }
   ],
   "source": [
    "import sys\n",
    "import os\n",
    "import numpy as np\n",
    "import keras\n",
    "from sklearn.cluster import KMeans\n",
    "from sklearn.metrics import pairwise_distances_argmin\n",
    "from sklearn.utils import shuffle\n",
    "import matplotlib.pyplot as plt\n",
    "from skimage.color import rgb2gray\n",
    "from keras.models import Sequential\n",
    "from keras.layers import Dropout, MaxPooling2D, Conv2D, Dense\n",
    "from keras.datasets import cifar10\n"
   ]
  },
  {
   "cell_type": "markdown",
   "metadata": {
    "colab_type": "text",
    "id": "jwRwBH1G-QhU"
   },
   "source": [
    "## (a) This assignment uses a convolutional neural network for image colorization which turns a grayscale image. By converting an image to grayscale, we loose color information, so converting a grayscale image back to a colored version is not an easy job. We will use the CIFAR-10 dataset. Download the dataset."
   ]
  },
  {
   "cell_type": "code",
   "execution_count": 2,
   "metadata": {
    "colab": {},
    "colab_type": "code",
    "id": "96UPzqHQNW4M"
   },
   "outputs": [],
   "source": [
    "(x_train, y_train), (x_test, y_test) = cifar10.load_data()"
   ]
  },
  {
   "cell_type": "code",
   "execution_count": 3,
   "metadata": {},
   "outputs": [
    {
     "data": {
      "text/plain": [
       "((50000, 32, 32, 3), (50000, 1), (10000, 32, 32, 3), (10000, 1))"
      ]
     },
     "execution_count": 3,
     "metadata": {},
     "output_type": "execute_result"
    }
   ],
   "source": [
    "x_train.shape, y_train.shape, x_test.shape, y_test.shape"
   ]
  },
  {
   "cell_type": "markdown",
   "metadata": {
    "colab_type": "text",
    "id": "iYElgjO34Gyc"
   },
   "source": [
    "## (b) From the train and test dataset, extract the class birds. We will focus on this class, which has 6000 members."
   ]
  },
  {
   "cell_type": "code",
   "execution_count": 4,
   "metadata": {},
   "outputs": [],
   "source": [
    "def extractBird(x, y):\n",
    "    idx = [i for i, j in enumerate(y) if j == 2]\n",
    "    return x[idx], y[idx]"
   ]
  },
  {
   "cell_type": "code",
   "execution_count": 5,
   "metadata": {},
   "outputs": [],
   "source": [
    "x_train, y_train = extractBird(x_train, y_train)\n",
    "x_test, y_test = extractBird(x_test, y_test)\n",
    "num_train = len(x_train)\n",
    "num_test = len(x_test)\n",
    "\n",
    "bird_set = np.vstack((x_train, x_test))"
   ]
  },
  {
   "cell_type": "code",
   "execution_count": 6,
   "metadata": {
    "colab": {
     "base_uri": "https://localhost:8080/",
     "height": 85
    },
    "colab_type": "code",
    "id": "GlYdbUtIdwn_",
    "outputId": "533aab99-751f-4d86-bc14-408a53fa0f7d"
   },
   "outputs": [
    {
     "name": "stdout",
     "output_type": "stream",
     "text": [
      "number of images : 6000\n",
      "(32, 32, 3)\n",
      "number of train data:  5000 \n",
      "number of test data:  1000\n"
     ]
    }
   ],
   "source": [
    "print('number of images :', len(bird_set))\n",
    "print(bird_set[0].shape)\n",
    "#print(bird_set[2])\n",
    "print('number of train data: ', num_train, '\\nnumber of test data: ', num_test)"
   ]
  },
  {
   "cell_type": "code",
   "execution_count": 7,
   "metadata": {
    "colab": {
     "base_uri": "https://localhost:8080/",
     "height": 155
    },
    "colab_type": "code",
    "id": "ABnJL5FYt8_7",
    "outputId": "536c70a0-1979-4c97-a184-f356adf81fdc"
   },
   "outputs": [
    {
     "data": {
      "image/png": "[encoded data removed]",
      "text/plain": [
       "<Figure size 432x288 with 8 Axes>"
      ]
     },
     "metadata": {
      "needs_background": "light"
     },
     "output_type": "display_data"
    }
   ],
   "source": [
    "for i in range(0, 8):\n",
    "  axis = plt.subplot(4, 4, i+1)\n",
    "  arr = bird_set[i]\n",
    "  axis.imshow(arr)\n",
    "  plt.axis('off')\n",
    "plt.show()"
   ]
  },
  {
   "cell_type": "markdown",
   "metadata": {
    "colab_type": "text",
    "id": "QNKKOynKdymB"
   },
   "source": [
    "## (c) Those 6000 images have 6000 x 32 x 32 pixels. Choose at least 10% of the pixels randomly. It is strongly recommended that you choose a large number or all of the pixels. You will have between P = 614400 and P = 6144000 pixels. Each pixel is an RGB vector with three elements."
   ]
  },
  {
   "cell_type": "code",
   "execution_count": 8,
   "metadata": {
    "colab": {
     "base_uri": "https://localhost:8080/",
     "height": 170
    },
    "colab_type": "code",
    "id": "f7r-jJ7evzOn",
    "outputId": "ae20f683-1a2b-431c-f187-919832038d65"
   },
   "outputs": [
    {
     "name": "stdout",
     "output_type": "stream",
     "text": [
      "(1024, 3)\n",
      "6000\n",
      "[[0.64313725 0.80784314 0.32941176]\n",
      " [0.41176471 0.54901961 0.23921569]\n",
      " [0.4627451  0.58039216 0.39607843]\n",
      " ...\n",
      " [0.36862745 0.5254902  0.11372549]\n",
      " [0.35686275 0.52156863 0.10196078]\n",
      " [0.47843137 0.66666667 0.17254902]]\n"
     ]
    }
   ],
   "source": [
    "# Convert to floats instead of the integer coding. Dividing by 255 to make\n",
    "# integers be in the range [0-1]\n",
    "bird_set_normal = np.array(bird_set, dtype=np.float64) / 255\n",
    "\n",
    "\n",
    "# Load image and transform to a 2D numpy array.\n",
    "image_array = []\n",
    "for i in range(len(bird_set_normal)):\n",
    "  x, y, z = bird_set_normal[i].shape\n",
    "  image_array.append(bird_set_normal[i].reshape(x*y, z))\n",
    "print(image_array[1].shape)\n",
    "print(len(image_array))\n",
    "print(image_array[0])\n",
    "\n"
   ]
  },
  {
   "cell_type": "code",
   "execution_count": 9,
   "metadata": {
    "colab": {},
    "colab_type": "code",
    "id": "vqTFIpXjJb8C"
   },
   "outputs": [],
   "source": [
    "image_array = np.reshape(image_array, (len(image_array)*image_array[0].shape[0], 3))"
   ]
  },
  {
   "cell_type": "code",
   "execution_count": 10,
   "metadata": {
    "colab": {
     "base_uri": "https://localhost:8080/",
     "height": 170
    },
    "colab_type": "code",
    "id": "3QxdknWUQzRI",
    "outputId": "f06febfe-84a8-4ef2-b6e8-4e0fc2ccf998"
   },
   "outputs": [
    {
     "name": "stdout",
     "output_type": "stream",
     "text": [
      "(6144000, 3)\n",
      "[[0.64313725 0.80784314 0.32941176]\n",
      " [0.41176471 0.54901961 0.23921569]\n",
      " [0.4627451  0.58039216 0.39607843]\n",
      " ...\n",
      " [0.61176471 0.70196078 0.37254902]\n",
      " [0.61960784 0.70588235 0.38431373]\n",
      " [0.61568627 0.70196078 0.38431373]]\n"
     ]
    }
   ],
   "source": [
    "print(image_array.shape)\n",
    "print(image_array)"
   ]
  },
  {
   "cell_type": "code",
   "execution_count": 11,
   "metadata": {
    "colab": {
     "base_uri": "https://localhost:8080/",
     "height": 34
    },
    "colab_type": "code",
    "id": "GXwP90qQrGqw",
    "outputId": "4b89c8c9-b4eb-434a-95c3-f030897fbe13"
   },
   "outputs": [
    {
     "name": "stdout",
     "output_type": "stream",
     "text": [
      "number of pixels:  6144000\n"
     ]
    }
   ],
   "source": [
    "print('number of pixels: ', image_array.shape[0])"
   ]
  },
  {
   "cell_type": "markdown",
   "metadata": {
    "colab_type": "text",
    "id": "TpDw6EagiiPn"
   },
   "source": [
    "## (d) Run k-means clustering on the P vectors using k = 4. The centers of the clusters will be your main colors. Convert the colored images to k-color images by converting each pixel's value to the closest main color in terms of Euclidean distance. These are the outputs of your network, whose each pixel falls in one of those k classes."
   ]
  },
  {
   "cell_type": "code",
   "execution_count": 12,
   "metadata": {
    "colab": {
     "base_uri": "https://localhost:8080/",
     "height": 71
    },
    "colab_type": "code",
    "id": "9KdlPFbalAiX",
    "outputId": "c5a29f48-56bb-444b-fdaa-82004b30f892"
   },
   "outputs": [],
   "source": [
    "n_colors = 4\n",
    "\n",
    "# randomization\n",
    "image_array_sample = shuffle(image_array)\n",
    "\n",
    "# initial centroid\n",
    "#init_centroid = np.array([[0, 0, 128],\n",
    "#                     [230, 25, 75],\n",
    "#                     [170, 255, 195],\n",
    "#                     [255, 255, 255]],\n",
    "#                    np.float64) / 255\n",
    "# fit model\n",
    "kmeans = KMeans(n_clusters=n_colors, n_jobs=20).fit(image_array_sample)\n",
    "#kmeans = KMeans(n_clusters=n_colors, n_jobs=20, init=init_centroid).fit(image_array_sample)\n",
    "\n",
    "\n"
   ]
  },
  {
   "cell_type": "code",
   "execution_count": 13,
   "metadata": {
    "colab": {},
    "colab_type": "code",
    "id": "JZ-zWGuQTOcM"
   },
   "outputs": [],
   "source": [
    "# Get labels for all points\n",
    "\n",
    "centers = kmeans.cluster_centers_\n",
    "labels = kmeans.predict(image_array)"
   ]
  },
  {
   "cell_type": "code",
   "execution_count": 14,
   "metadata": {
    "colab": {
     "base_uri": "https://localhost:8080/",
     "height": 102
    },
    "colab_type": "code",
    "id": "lmnjuUdUYv7J",
    "outputId": "a1e548a3-14ec-402b-8a32-de389b0d5f0a"
   },
   "outputs": [
    {
     "name": "stdout",
     "output_type": "stream",
     "text": [
      "centers\n",
      " [[0.42474526 0.42352956 0.32243631]\n",
      " [0.80858584 0.82924217 0.82782437]\n",
      " [0.61113257 0.60816639 0.52878694]\n",
      " [0.19056469 0.19442389 0.14994796]]\n"
     ]
    }
   ],
   "source": [
    "print('centers\\n', centers)"
   ]
  },
  {
   "cell_type": "code",
   "execution_count": 15,
   "metadata": {
    "colab": {
     "base_uri": "https://localhost:8080/",
     "height": 51
    },
    "colab_type": "code",
    "id": "PlXvvSWDYxpn",
    "outputId": "5cc619db-4b8c-4380-e82d-bcba69ed3c80"
   },
   "outputs": [
    {
     "name": "stdout",
     "output_type": "stream",
     "text": [
      "labels\n",
      " [2 0 0 ... 2 2 2] (6144000,)\n"
     ]
    }
   ],
   "source": [
    "print('labels\\n', labels, labels.shape)"
   ]
  },
  {
   "cell_type": "code",
   "execution_count": 16,
   "metadata": {
    "colab": {
     "base_uri": "https://localhost:8080/",
     "height": 34
    },
    "colab_type": "code",
    "id": "au7FJexxIvrZ",
    "outputId": "28e44804-fdc6-4b39-855f-09db6c823b75"
   },
   "outputs": [
    {
     "data": {
      "text/plain": [
       "6144000"
      ]
     },
     "execution_count": 16,
     "metadata": {},
     "output_type": "execute_result"
    }
   ],
   "source": [
    "image_array.shape[0]"
   ]
  },
  {
   "cell_type": "code",
   "execution_count": 17,
   "metadata": {
    "colab": {
     "base_uri": "https://localhost:8080/",
     "height": 34
    },
    "colab_type": "code",
    "id": "OwQS8C1CYzvN",
    "outputId": "bd7ae538-acec-481e-acc6-6ca349f23101"
   },
   "outputs": [
    {
     "name": "stdout",
     "output_type": "stream",
     "text": [
      "(6144000, 3)\n"
     ]
    }
   ],
   "source": [
    "# Convert colored images to k-color images by converting each pixel's value to \n",
    "# the closest main color\n",
    "clustered_image = []\n",
    "for i in range(image_array.shape[0]):\n",
    "  clustered_image.append(centers[labels[i]])\n",
    "\n",
    "clustered_image = np.array(clustered_image)\n",
    "print(clustered_image.shape)"
   ]
  },
  {
   "cell_type": "code",
   "execution_count": 18,
   "metadata": {
    "colab": {
     "base_uri": "https://localhost:8080/",
     "height": 204
    },
    "colab_type": "code",
    "id": "cKaBzhtdaW79",
    "outputId": "7ba71530-0898-458b-eb00-60325127a8a9"
   },
   "outputs": [
    {
     "name": "stdout",
     "output_type": "stream",
     "text": [
      "converted pixels\n"
     ]
    },
    {
     "data": {
      "text/plain": [
       "array([[0.61113257, 0.60816639, 0.52878694],\n",
       "       [0.42474526, 0.42352956, 0.32243631],\n",
       "       [0.42474526, 0.42352956, 0.32243631],\n",
       "       [0.61113257, 0.60816639, 0.52878694],\n",
       "       [0.61113257, 0.60816639, 0.52878694],\n",
       "       [0.61113257, 0.60816639, 0.52878694],\n",
       "       [0.61113257, 0.60816639, 0.52878694],\n",
       "       [0.80858584, 0.82924217, 0.82782437],\n",
       "       [0.80858584, 0.82924217, 0.82782437],\n",
       "       [0.61113257, 0.60816639, 0.52878694]])"
      ]
     },
     "execution_count": 18,
     "metadata": {},
     "output_type": "execute_result"
    }
   ],
   "source": [
    "print('converted pixels')\n",
    "clustered_image[0:10]"
   ]
  },
  {
   "cell_type": "code",
   "execution_count": 19,
   "metadata": {
    "colab": {
     "base_uri": "https://localhost:8080/",
     "height": 134
    },
    "colab_type": "code",
    "id": "c1A3zY6Ruttn",
    "outputId": "988cb65a-95a1-42d1-bd43-32a1a9f10f7e"
   },
   "outputs": [
    {
     "data": {
      "image/png": "[encoded data removed]",
      "text/plain": [
       "<Figure size 432x288 with 10 Axes>"
      ]
     },
     "metadata": {
      "needs_background": "light"
     },
     "output_type": "display_data"
    }
   ],
   "source": [
    "temp_kmeans = np.array(clustered_image).reshape((6000, 32, 32, 3))\n",
    "\n",
    "for i in range(0, 10):\n",
    "  axis = plt.subplot(5, 5, i+1)\n",
    "  arr = temp_kmeans[i]\n",
    "  axis.imshow(arr)\n",
    "  plt.axis('off')\n",
    "plt.show()"
   ]
  },
  {
   "cell_type": "markdown",
   "metadata": {
    "colab_type": "text",
    "id": "ZcRhP2X_a2Fo"
   },
   "source": [
    "## (e) Use any tool to obtain grayscale 32x32x1 images from the original 32x32x3 images. The grayscale images are inputs of your network.\n"
   ]
  },
  {
   "cell_type": "code",
   "execution_count": 20,
   "metadata": {
    "colab": {},
    "colab_type": "code",
    "id": "NFkHK-cldQOI"
   },
   "outputs": [],
   "source": [
    "# Convert to grayscale\n",
    "#bird_set = bird_set.reshape((6000, 32, 32, 3))\n",
    "gray_bird_set = []\n",
    "for i in range(len(bird_set)):\n",
    "  gray_bird_set.append(rgb2gray(bird_set[i]))\n",
    "  \n",
    "#print(gray_bird_set[0].shape)\n"
   ]
  },
  {
   "cell_type": "code",
   "execution_count": 21,
   "metadata": {
    "colab": {
     "base_uri": "https://localhost:8080/",
     "height": 34
    },
    "colab_type": "code",
    "id": "b7pkUM1Od-Hl",
    "outputId": "7d1f3d3b-3125-4f78-9dfc-c5d24cb4081e"
   },
   "outputs": [
    {
     "name": "stdout",
     "output_type": "stream",
     "text": [
      "(6000, 32, 32)\n"
     ]
    }
   ],
   "source": [
    "gray_bird_set = np.array(gray_bird_set)\n",
    "print(gray_bird_set.shape)\n",
    "#x_train = gray_bird_set[0:num_train]\n",
    "#y_train = y_N[0:num_train]\n",
    "#x_test = gray_bird_set[-num_test:]\n",
    "#y_test = y_N[-num_test:]\n",
    "#print(x_train.shape)\n",
    "#print(y_train.shape)\n",
    "#print(x_test.shape)\n",
    "#print(y_test.shape)"
   ]
  },
  {
   "cell_type": "code",
   "execution_count": 22,
   "metadata": {
    "colab": {
     "base_uri": "https://localhost:8080/",
     "height": 155
    },
    "colab_type": "code",
    "id": "Ea1KMdL84_6y",
    "outputId": "4d17c4b4-4ef0-46a7-c051-9ec002de6e01"
   },
   "outputs": [
    {
     "data": {
      "image/png": "[encoded data removed]",
      "text/plain": [
       "<Figure size 432x288 with 8 Axes>"
      ]
     },
     "metadata": {
      "needs_background": "light"
     },
     "output_type": "display_data"
    }
   ],
   "source": [
    "for i in range(0,8) :\n",
    "  axis = plt.subplot(4, 4, i+1)\n",
    "  #arr = temp_gray[i]\n",
    "  arr = gray_bird_set[i]\n",
    "  axis.imshow(arr,cmap='gray')\n",
    "  #axis.imshow(arr)\n",
    "  plt.axis('off')\n",
    "plt.show()"
   ]
  },
  {
   "cell_type": "code",
   "execution_count": 23,
   "metadata": {
    "colab": {},
    "colab_type": "code",
    "id": "kW-LIiRj5UEr"
   },
   "outputs": [],
   "source": [
    "gray_bird_set = gray_bird_set.reshape((6000, 32, 32, 1))"
   ]
  },
  {
   "cell_type": "code",
   "execution_count": 24,
   "metadata": {
    "colab": {
     "base_uri": "https://localhost:8080/",
     "height": 1000
    },
    "colab_type": "code",
    "id": "xYm_uw89-_6j",
    "outputId": "24f9cc11-a976-4eb7-9238-07abc94debf0"
   },
   "outputs": [
    {
     "data": {
      "text/plain": [
       "array([[[[0.73834824],\n",
       "         [0.49751608],\n",
       "         [0.54210314],\n",
       "         ...,\n",
       "         [0.52388078],\n",
       "         [0.52191647],\n",
       "         [0.45385804]],\n",
       "\n",
       "        [[0.76048667],\n",
       "         [0.55939961],\n",
       "         [0.37795647],\n",
       "         ...,\n",
       "         [0.50821647],\n",
       "         [0.50623725],\n",
       "         [0.44658039]],\n",
       "\n",
       "        [[0.67089373],\n",
       "         [0.67845412],\n",
       "         [0.57879843],\n",
       "         ...,\n",
       "         [0.50038039],\n",
       "         [0.42305804],\n",
       "         [0.40148588]],\n",
       "\n",
       "        ...,\n",
       "\n",
       "        [[0.55394824],\n",
       "         [0.57410745],\n",
       "         [0.57051412],\n",
       "         ...,\n",
       "         [0.45801922],\n",
       "         [0.50283176],\n",
       "         [0.61262078]],\n",
       "\n",
       "        [[0.60032863],\n",
       "         [0.61078549],\n",
       "         [0.60721412],\n",
       "         ...,\n",
       "         [0.44091922],\n",
       "         [0.50451333],\n",
       "         [0.61878235]],\n",
       "\n",
       "        [[0.61058   ],\n",
       "         [0.69006431],\n",
       "         [0.58865333],\n",
       "         ...,\n",
       "         [0.46246863],\n",
       "         [0.4563149 ],\n",
       "         [0.59104078]]],\n",
       "\n",
       "\n",
       "       [[[0.02314863],\n",
       "         [0.02314863],\n",
       "         [0.02006039],\n",
       "         ...,\n",
       "         [0.05874824],\n",
       "         [0.05482667],\n",
       "         [0.04306196]],\n",
       "\n",
       "        [[0.0270702 ],\n",
       "         [0.0270702 ],\n",
       "         [0.0270702 ],\n",
       "         ...,\n",
       "         [0.0626698 ],\n",
       "         [0.05874824],\n",
       "         [0.05482667]],\n",
       "\n",
       "        [[0.0270702 ],\n",
       "         [0.0270702 ],\n",
       "         [0.03099176],\n",
       "         ...,\n",
       "         [0.0626698 ],\n",
       "         [0.05874824],\n",
       "         [0.05874824]],\n",
       "\n",
       "        ...,\n",
       "\n",
       "        [[0.84426039],\n",
       "         [0.86691882],\n",
       "         [0.79912824],\n",
       "         ...,\n",
       "         [0.09963843],\n",
       "         [0.09571686],\n",
       "         [0.09963843]],\n",
       "\n",
       "        [[0.85071176],\n",
       "         [0.85292902],\n",
       "         [0.82549294],\n",
       "         ...,\n",
       "         [0.10748157],\n",
       "         [0.10356   ],\n",
       "         [0.09963843]],\n",
       "\n",
       "        [[0.82159412],\n",
       "         [0.85490118],\n",
       "         [0.83811373],\n",
       "         ...,\n",
       "         [0.11140314],\n",
       "         [0.10356   ],\n",
       "         [0.09571686]]],\n",
       "\n",
       "\n",
       "       [[[0.74194941],\n",
       "         [0.74587098],\n",
       "         [0.75763569],\n",
       "         ...,\n",
       "         [0.80241686],\n",
       "         [0.80241686],\n",
       "         [0.80241686]],\n",
       "\n",
       "        [[0.72626314],\n",
       "         [0.73410627],\n",
       "         [0.74587098],\n",
       "         ...,\n",
       "         [0.79849529],\n",
       "         [0.79737922],\n",
       "         [0.79065216]],\n",
       "\n",
       "        [[0.72234157],\n",
       "         [0.73018471],\n",
       "         [0.74194941],\n",
       "         ...,\n",
       "         [0.80241686],\n",
       "         [0.79849529],\n",
       "         [0.79457373]],\n",
       "\n",
       "        ...,\n",
       "\n",
       "        [[0.5811651 ],\n",
       "         [0.5811651 ],\n",
       "         [0.5811651 ],\n",
       "         ...,\n",
       "         [0.32167882],\n",
       "         [0.39001216],\n",
       "         [0.42640745]],\n",
       "\n",
       "        [[0.58900824],\n",
       "         [0.5929298 ],\n",
       "         [0.57332196],\n",
       "         ...,\n",
       "         [0.44491412],\n",
       "         [0.39955961],\n",
       "         [0.30434078]],\n",
       "\n",
       "        [[0.56547882],\n",
       "         [0.56155725],\n",
       "         [0.53802784],\n",
       "         ...,\n",
       "         [0.29507608],\n",
       "         [0.29761373],\n",
       "         [0.26430667]]],\n",
       "\n",
       "\n",
       "       ...,\n",
       "\n",
       "\n",
       "       [[[0.38337961],\n",
       "         [0.36574392],\n",
       "         [0.35511804],\n",
       "         ...,\n",
       "         [0.38143725],\n",
       "         [0.37834902],\n",
       "         [0.38115451]],\n",
       "\n",
       "        [[0.39933373],\n",
       "         [0.38169804],\n",
       "         [0.36715059],\n",
       "         ...,\n",
       "         [0.38535882],\n",
       "         [0.38816431],\n",
       "         [0.39291922]],\n",
       "\n",
       "        [[0.40772745],\n",
       "         [0.38700353],\n",
       "         [0.37245608],\n",
       "         ...,\n",
       "         [0.38899765],\n",
       "         [0.38899765],\n",
       "         [0.38899765]],\n",
       "\n",
       "        ...,\n",
       "\n",
       "        [[0.65549608],\n",
       "         [0.65883725],\n",
       "         [0.66274392],\n",
       "         ...,\n",
       "         [0.76326039],\n",
       "         [0.77390902],\n",
       "         [0.78567373]],\n",
       "\n",
       "        [[0.68320706],\n",
       "         [0.69297765],\n",
       "         [0.69462941],\n",
       "         ...,\n",
       "         [0.76100549],\n",
       "         [0.7727702 ],\n",
       "         [0.7845349 ]],\n",
       "\n",
       "        [[0.6647302 ],\n",
       "         [0.71341882],\n",
       "         [0.71507059],\n",
       "         ...,\n",
       "         [0.73745333],\n",
       "         [0.75230627],\n",
       "         [0.76407098]]],\n",
       "\n",
       "\n",
       "       [[[0.16125255],\n",
       "         [0.02800157],\n",
       "         [0.02745098],\n",
       "         ...,\n",
       "         [0.14581137],\n",
       "         [0.21497804],\n",
       "         [0.20825098]],\n",
       "\n",
       "        [[0.11475922],\n",
       "         [0.04672353],\n",
       "         [0.03080706],\n",
       "         ...,\n",
       "         [0.1278702 ],\n",
       "         [0.24582275],\n",
       "         [0.25843569]],\n",
       "\n",
       "        [[0.0988051 ],\n",
       "         [0.06462706],\n",
       "         [0.05346549],\n",
       "         ...,\n",
       "         [0.09486863],\n",
       "         [0.15954824],\n",
       "         [0.26571333]],\n",
       "\n",
       "        ...,\n",
       "\n",
       "        [[0.80223882],\n",
       "         [0.80030431],\n",
       "         [0.6256702 ],\n",
       "         ...,\n",
       "         [0.31536039],\n",
       "         [0.40548902],\n",
       "         [0.50825333]],\n",
       "\n",
       "        [[0.78850196],\n",
       "         [0.66522902],\n",
       "         [0.77926   ],\n",
       "         ...,\n",
       "         [0.35596   ],\n",
       "         [0.47782   ],\n",
       "         [0.49201647]],\n",
       "\n",
       "        [[0.67491647],\n",
       "         [0.59960314],\n",
       "         [0.75459176],\n",
       "         ...,\n",
       "         [0.50689137],\n",
       "         [0.41344588],\n",
       "         [0.42405608]]],\n",
       "\n",
       "\n",
       "       [[[0.55988667],\n",
       "         [0.58683255],\n",
       "         [0.55100275],\n",
       "         ...,\n",
       "         [0.1504498 ],\n",
       "         [0.16530275],\n",
       "         [0.16109843]],\n",
       "\n",
       "        [[0.60965137],\n",
       "         [0.6190149 ],\n",
       "         [0.55181333],\n",
       "         ...,\n",
       "         [0.16390392],\n",
       "         [0.16138118],\n",
       "         [0.15717686]],\n",
       "\n",
       "        [[0.64268353],\n",
       "         [0.62624549],\n",
       "         [0.54564314],\n",
       "         ...,\n",
       "         [0.18995608],\n",
       "         [0.16390392],\n",
       "         [0.16307059]],\n",
       "\n",
       "        ...,\n",
       "\n",
       "        [[0.63094078],\n",
       "         [0.62534549],\n",
       "         [0.69089608],\n",
       "         ...,\n",
       "         [0.65985412],\n",
       "         [0.66853765],\n",
       "         [0.63887725]],\n",
       "\n",
       "        [[0.6567549 ],\n",
       "         [0.60574471],\n",
       "         [0.58696314],\n",
       "         ...,\n",
       "         [0.64866275],\n",
       "         [0.64558157],\n",
       "         [0.64503882]],\n",
       "\n",
       "        [[0.77017569],\n",
       "         [0.72280353],\n",
       "         [0.65867451],\n",
       "         ...,\n",
       "         [0.65904353],\n",
       "         [0.66436392],\n",
       "         [0.6607251 ]]]])"
      ]
     },
     "execution_count": 24,
     "metadata": {},
     "output_type": "execute_result"
    }
   ],
   "source": [
    "gray_bird_set"
   ]
  },
  {
   "cell_type": "markdown",
   "metadata": {
    "colab_type": "text",
    "id": "ue72y6Liehoc"
   },
   "source": [
    "## (f) Set up a deep convolutional neural network with two convolution layers (or more) and two ( or more) MLP layers. Use 5 x 5 filters and a softmax output layer. Determine the number of filters, strides, and whether or not to use padding yourself. Use a minimum of one max pooling layer. Use a classification scheme, which means your output must determine one of the k = 4 color classes for each pixel in your grayscale image. Your input is a grayscale version of an image (32x32x1) and the output is 32x32x4. The output assigns one of the k = 4 colors to each of the 32x32 pixels; therefore, each of the pixels is classified into one of the main colors, the RGB code of that color can be assigned to the pixel. For example, if the third main color is [255 255 255] and pixel (32,32) of an image has the one-hot encoded class [ 0 0 1 0 ], ie. it was classified as the third color, the (32, 32) place in the output can be associated with [255 255 255]. The size of the output of the convolutional part, c1 x c2 depends on the size of the convolutional layers you choose and is a feature map, which is a matrix. That matrix must be flattened or reshaped, i.e. must be turned into a vector of size c1c2x1, before it is fed to the MLP part. Choose the number of neurons in the first layer of the MLP(and any other hidden layers, if you are willing to have more than one hidden layer) yourself, but the last layer must have 32x32x4 = 4096 neurons, each of which represents a pixel being in one of the k = 4 classes. Add a softmax layer which will choose the highest value out of its k = 4 inputs for each of the 1024 pixels; therefore the output of the MLP has to be reshaped into a 32x32x4 matrix, and to get the colored image, the RGB vector of each of the k = 4 classes has to be converted to the RGB vector, so an output image will be 32x32x3. Train at least for 5 epochs (30 epochs is strongly recommended)  Plot training, and (validation) test errors in each epoch. Report the train and test errors and visually compare the artificially colored versions of the first 10 images in the test set with the original images."
   ]
  },
  {
   "cell_type": "code",
   "execution_count": 25,
   "metadata": {
    "colab": {
     "base_uri": "https://localhost:8080/",
     "height": 34
    },
    "colab_type": "code",
    "id": "IW--DR6Owoj9",
    "outputId": "a820f986-55a8-46ce-e0a1-b09f76b0ea8c"
   },
   "outputs": [
    {
     "data": {
      "text/plain": [
       "array([0., 0., 1., 0.], dtype=float32)"
      ]
     },
     "execution_count": 25,
     "metadata": {},
     "output_type": "execute_result"
    }
   ],
   "source": [
    "# hot encoding\n",
    "y_N = keras.utils.to_categorical(labels).reshape((6000, 32, 32, 4))\n",
    "y_N[0][0][0]"
   ]
  },
  {
   "cell_type": "code",
   "execution_count": 26,
   "metadata": {
    "colab": {
     "base_uri": "https://localhost:8080/",
     "height": 34
    },
    "colab_type": "code",
    "id": "PN8_XLhQxmEQ",
    "outputId": "e2723014-a0b2-4765-db8c-1be065980e95"
   },
   "outputs": [
    {
     "data": {
      "text/plain": [
       "((6000, 32, 32, 1), (6000, 32, 32, 4))"
      ]
     },
     "execution_count": 26,
     "metadata": {},
     "output_type": "execute_result"
    }
   ],
   "source": [
    "gray_bird_set.shape, y_N.shape"
   ]
  },
  {
   "cell_type": "code",
   "execution_count": 27,
   "metadata": {
    "colab": {},
    "colab_type": "code",
    "id": "COS7GvIE0Tmw"
   },
   "outputs": [],
   "source": [
    "x_train = gray_bird_set[0:num_train]\n",
    "y_train = y_N[0:num_train]\n",
    "x_test = gray_bird_set[-num_test:]\n",
    "y_test = y_N[-num_test:]"
   ]
  },
  {
   "cell_type": "code",
   "execution_count": 28,
   "metadata": {
    "colab": {
     "base_uri": "https://localhost:8080/",
     "height": 34
    },
    "colab_type": "code",
    "id": "JDQw6S6lEUvC",
    "outputId": "08878f3d-99b7-4f29-ff0d-6f41e1d4919f"
   },
   "outputs": [
    {
     "data": {
      "text/plain": [
       "((5000, 32, 32, 1), (5000, 32, 32, 4), (1000, 32, 32, 1), (1000, 32, 32, 4))"
      ]
     },
     "execution_count": 28,
     "metadata": {},
     "output_type": "execute_result"
    }
   ],
   "source": [
    "x_train.shape, y_train.shape, x_test.shape, y_test.shape"
   ]
  },
  {
   "cell_type": "code",
   "execution_count": 29,
   "metadata": {
    "colab": {
     "base_uri": "https://localhost:8080/",
     "height": 85
    },
    "colab_type": "code",
    "id": "0e0aGtchFbqt",
    "outputId": "17278f98-154d-41d6-d6ec-ad196577a68a"
   },
   "outputs": [
    {
     "name": "stdout",
     "output_type": "stream",
     "text": [
      "number of filters:  64\n",
      "output layer activation:  softmax\n",
      "stride:  (1, 1)\n",
      "padding:  same\n",
      "epoch:  100\n"
     ]
    }
   ],
   "source": [
    "# set parameters\n",
    "num_filter_1 = 64\n",
    "num_filter_2 = 128\n",
    "filter_size = (5,5)\n",
    "act = 'softmax'\n",
    "stride = (1, 1)\n",
    "padding = 'same'\n",
    "num_neurons = 32\n",
    "num_epoch = 100\n",
    "\n",
    "print('number of filters: ', num_filter_1)\n",
    "print('output layer activation: ', act)\n",
    "print('stride: ', stride)\n",
    "print('padding: ', padding)\n",
    "print('epoch: ', num_epoch)"
   ]
  },
  {
   "cell_type": "code",
   "execution_count": 30,
   "metadata": {
    "colab": {
     "base_uri": "https://localhost:8080/",
     "height": 340
    },
    "colab_type": "code",
    "id": "Y34D9hEkOVQJ",
    "outputId": "cb04e0d3-914a-458c-e0fb-d61f6f4d1a37"
   },
   "outputs": [
    {
     "name": "stdout",
     "output_type": "stream",
     "text": [
      "_________________________________________________________________\n",
      "Layer (type)                 Output Shape              Param #   \n",
      "=================================================================\n",
      "conv2d_1 (Conv2D)            (None, 32, 32, 64)        1664      \n",
      "_________________________________________________________________\n",
      "max_pooling2d_1 (MaxPooling2 (None, 32, 32, 64)        0         \n",
      "_________________________________________________________________\n",
      "conv2d_2 (Conv2D)            (None, 32, 32, 64)        102464    \n",
      "_________________________________________________________________\n",
      "max_pooling2d_2 (MaxPooling2 (None, 32, 32, 64)        0         \n",
      "_________________________________________________________________\n",
      "dense_1 (Dense)              (None, 32, 32, 32)        2080      \n",
      "_________________________________________________________________\n",
      "dense_2 (Dense)              (None, 32, 32, 4)         132       \n",
      "=================================================================\n",
      "Total params: 106,340\n",
      "Trainable params: 106,340\n",
      "Non-trainable params: 0\n",
      "_________________________________________________________________\n"
     ]
    }
   ],
   "source": [
    "# build a model\n",
    "cnn = Sequential()\n",
    "cnn.add(Conv2D(num_filter_1 , kernel_size = filter_size, strides = stride, padding = padding, input_shape = (32, 32, 1)))\n",
    "#cnn.add(Conv2D(num_filter_1 , kernel_size = filter_size, strides = stride, padding = padding, activation ='relu', input_shape = (32, 32, 1)))\n",
    "cnn.add(MaxPooling2D(pool_size = (2,2), strides = stride, padding = padding))\n",
    "cnn.add(Conv2D(num_filter_1 , kernel_size = filter_size, strides = stride, padding = padding))\n",
    "cnn.add(MaxPooling2D(pool_size = (2,2), strides = stride, padding = padding))\n",
    "cnn.add(Dense(num_neurons, activation = 'softmax'))\n",
    "cnn.add(Dense(4, activation = 'softmax'))\n",
    "cnn.summary()"
   ]
  },
  {
   "cell_type": "code",
   "execution_count": 31,
   "metadata": {
    "colab": {
     "base_uri": "https://localhost:8080/",
     "height": 204
    },
    "colab_type": "code",
    "id": "SS7uniFsXlcB",
    "outputId": "0613ab1f-bfb7-403c-add9-12ecf557888d"
   },
   "outputs": [
    {
     "name": "stdout",
     "output_type": "stream",
     "text": [
      "Train on 4500 samples, validate on 500 samples\n",
      "Epoch 1/100\n",
      "4500/4500 [==============================] - 30s 7ms/step - loss: 1.2415 - acc: 0.5036 - val_loss: 1.1633 - val_acc: 0.6092\n",
      "Epoch 2/100\n",
      "4500/4500 [==============================] - 29s 7ms/step - loss: 1.1405 - acc: 0.6002 - val_loss: 1.0971 - val_acc: 0.6236\n",
      "Epoch 3/100\n",
      "4500/4500 [==============================] - 30s 7ms/step - loss: 1.0799 - acc: 0.6281 - val_loss: 1.0489 - val_acc: 0.6501\n",
      "Epoch 4/100\n",
      "4500/4500 [==============================] - 30s 7ms/step - loss: 1.0261 - acc: 0.5419 - val_loss: 0.9838 - val_acc: 0.5708\n",
      "Epoch 5/100\n",
      "4500/4500 [==============================] - 29s 7ms/step - loss: 0.9822 - acc: 0.5496 - val_loss: 0.9439 - val_acc: 0.5809\n",
      "Epoch 6/100\n",
      "4500/4500 [==============================] - 32s 7ms/step - loss: 0.9516 - acc: 0.5527 - val_loss: 0.9263 - val_acc: 0.5850\n",
      "Epoch 7/100\n",
      "4500/4500 [==============================] - 32s 7ms/step - loss: 0.9236 - acc: 0.5586 - val_loss: 0.8991 - val_acc: 0.5773\n",
      "Epoch 8/100\n",
      "4500/4500 [==============================] - 31s 7ms/step - loss: 0.9055 - acc: 0.5594 - val_loss: 0.8742 - val_acc: 0.5923\n",
      "Epoch 9/100\n",
      "4500/4500 [==============================] - 32s 7ms/step - loss: 0.8681 - acc: 0.5604 - val_loss: 0.7933 - val_acc: 0.7218\n",
      "Epoch 10/100\n",
      "4500/4500 [==============================] - 31s 7ms/step - loss: 0.7601 - acc: 0.7320 - val_loss: 0.7096 - val_acc: 0.7617\n",
      "Epoch 11/100\n",
      "4500/4500 [==============================] - 31s 7ms/step - loss: 0.6956 - acc: 0.7345 - val_loss: 0.6650 - val_acc: 0.7638\n",
      "Epoch 12/100\n",
      "4500/4500 [==============================] - 32s 7ms/step - loss: 0.6580 - acc: 0.7349 - val_loss: 0.6474 - val_acc: 0.7209\n",
      "Epoch 13/100\n",
      "4500/4500 [==============================] - 31s 7ms/step - loss: 0.6254 - acc: 0.7390 - val_loss: 0.6002 - val_acc: 0.7661\n",
      "Epoch 14/100\n",
      "4500/4500 [==============================] - 31s 7ms/step - loss: 0.6061 - acc: 0.7392 - val_loss: 0.5845 - val_acc: 0.7504\n",
      "Epoch 15/100\n",
      "4500/4500 [==============================] - 32s 7ms/step - loss: 0.5905 - acc: 0.7383 - val_loss: 0.5689 - val_acc: 0.7665\n",
      "Epoch 16/100\n",
      "4500/4500 [==============================] - 32s 7ms/step - loss: 0.5699 - acc: 0.7428 - val_loss: 0.5549 - val_acc: 0.7505\n",
      "Epoch 17/100\n",
      "4500/4500 [==============================] - 32s 7ms/step - loss: 0.5579 - acc: 0.7416 - val_loss: 0.5393 - val_acc: 0.7675\n",
      "Epoch 18/100\n",
      "4500/4500 [==============================] - 33s 7ms/step - loss: 0.5434 - acc: 0.7437 - val_loss: 0.5329 - val_acc: 0.7714\n",
      "Epoch 19/100\n",
      "4500/4500 [==============================] - 31s 7ms/step - loss: 0.5329 - acc: 0.7427 - val_loss: 0.5217 - val_acc: 0.7493\n",
      "Epoch 20/100\n",
      "4500/4500 [==============================] - 32s 7ms/step - loss: 0.5215 - acc: 0.7435 - val_loss: 0.5085 - val_acc: 0.7582\n",
      "Epoch 21/100\n",
      "4500/4500 [==============================] - 32s 7ms/step - loss: 0.5116 - acc: 0.7428 - val_loss: 0.4989 - val_acc: 0.7574\n",
      "Epoch 22/100\n",
      "4500/4500 [==============================] - 32s 7ms/step - loss: 0.5028 - acc: 0.7572 - val_loss: 0.4914 - val_acc: 0.8480\n",
      "Epoch 23/100\n",
      "4500/4500 [==============================] - 32s 7ms/step - loss: 0.4924 - acc: 0.8435 - val_loss: 0.4874 - val_acc: 0.8274\n",
      "Epoch 24/100\n",
      "4500/4500 [==============================] - 32s 7ms/step - loss: 0.4852 - acc: 0.8558 - val_loss: 0.4732 - val_acc: 0.8634\n",
      "Epoch 25/100\n",
      "4500/4500 [==============================] - 32s 7ms/step - loss: 0.4775 - acc: 0.8566 - val_loss: 0.4666 - val_acc: 0.8693\n",
      "Epoch 26/100\n",
      "4500/4500 [==============================] - 32s 7ms/step - loss: 0.4683 - acc: 0.8584 - val_loss: 0.4635 - val_acc: 0.8510\n",
      "Epoch 27/100\n",
      "4500/4500 [==============================] - 31s 7ms/step - loss: 0.4629 - acc: 0.8563 - val_loss: 0.4569 - val_acc: 0.8641\n",
      "Epoch 28/100\n",
      "4500/4500 [==============================] - 32s 7ms/step - loss: 0.4537 - acc: 0.8576 - val_loss: 0.4542 - val_acc: 0.8437\n",
      "Epoch 29/100\n",
      "4500/4500 [==============================] - 31s 7ms/step - loss: 0.4455 - acc: 0.8601 - val_loss: 0.4455 - val_acc: 0.8558\n",
      "Epoch 30/100\n",
      "4500/4500 [==============================] - 32s 7ms/step - loss: 0.4412 - acc: 0.8578 - val_loss: 0.4386 - val_acc: 0.8521\n",
      "Epoch 31/100\n",
      "4500/4500 [==============================] - 32s 7ms/step - loss: 0.4334 - acc: 0.8593 - val_loss: 0.4467 - val_acc: 0.8582\n",
      "Epoch 32/100\n",
      "4500/4500 [==============================] - 32s 7ms/step - loss: 0.4335 - acc: 0.8540 - val_loss: 0.4468 - val_acc: 0.8337\n",
      "Epoch 33/100\n",
      "4500/4500 [==============================] - 32s 7ms/step - loss: 0.4202 - acc: 0.8626 - val_loss: 0.4306 - val_acc: 0.8484\n",
      "Epoch 34/100\n",
      "4500/4500 [==============================] - 34s 8ms/step - loss: 0.4172 - acc: 0.8602 - val_loss: 0.4171 - val_acc: 0.8582\n",
      "Epoch 35/100\n",
      "4500/4500 [==============================] - 31s 7ms/step - loss: 0.4165 - acc: 0.8569 - val_loss: 0.4121 - val_acc: 0.8611\n",
      "Epoch 36/100\n",
      "4500/4500 [==============================] - 32s 7ms/step - loss: 0.4082 - acc: 0.8614 - val_loss: 0.4131 - val_acc: 0.8505\n",
      "Epoch 37/100\n",
      "4500/4500 [==============================] - 32s 7ms/step - loss: 0.4016 - acc: 0.8636 - val_loss: 0.4083 - val_acc: 0.8537\n",
      "Epoch 38/100\n",
      "4500/4500 [==============================] - 32s 7ms/step - loss: 0.3957 - acc: 0.8643 - val_loss: 0.3957 - val_acc: 0.8628\n",
      "Epoch 39/100\n",
      "4500/4500 [==============================] - 32s 7ms/step - loss: 0.3950 - acc: 0.8624 - val_loss: 0.3917 - val_acc: 0.8653\n",
      "Epoch 40/100\n",
      "4500/4500 [==============================] - 32s 7ms/step - loss: 0.3881 - acc: 0.8641 - val_loss: 0.3929 - val_acc: 0.8577\n",
      "Epoch 41/100\n",
      "4500/4500 [==============================] - 32s 7ms/step - loss: 0.3866 - acc: 0.8639 - val_loss: 0.3864 - val_acc: 0.8671\n",
      "Epoch 42/100\n",
      "4500/4500 [==============================] - 34s 8ms/step - loss: 0.3785 - acc: 0.8667 - val_loss: 0.3792 - val_acc: 0.8671\n",
      "Epoch 43/100\n",
      "4500/4500 [==============================] - 33s 7ms/step - loss: 0.3764 - acc: 0.8662 - val_loss: 0.3918 - val_acc: 0.8604\n",
      "Epoch 44/100\n",
      "4500/4500 [==============================] - 34s 8ms/step - loss: 0.3761 - acc: 0.8640 - val_loss: 0.3911 - val_acc: 0.8473\n",
      "Epoch 45/100\n",
      "4500/4500 [==============================] - 31s 7ms/step - loss: 0.3707 - acc: 0.8656 - val_loss: 0.3663 - val_acc: 0.8732\n",
      "Epoch 46/100\n",
      "4500/4500 [==============================] - 32s 7ms/step - loss: 0.3655 - acc: 0.8680 - val_loss: 0.3698 - val_acc: 0.8623\n",
      "Epoch 47/100\n",
      "4500/4500 [==============================] - 34s 8ms/step - loss: 0.3680 - acc: 0.8643 - val_loss: 0.3808 - val_acc: 0.8505\n",
      "Epoch 48/100\n",
      "4500/4500 [==============================] - 32s 7ms/step - loss: 0.3614 - acc: 0.8673 - val_loss: 0.3572 - val_acc: 0.8742\n",
      "Epoch 49/100\n",
      "4500/4500 [==============================] - 32s 7ms/step - loss: 0.3556 - acc: 0.8696 - val_loss: 0.3902 - val_acc: 0.8444\n",
      "Epoch 50/100\n",
      "4500/4500 [==============================] - 33s 7ms/step - loss: 0.3544 - acc: 0.8690 - val_loss: 0.3582 - val_acc: 0.8685\n",
      "Epoch 51/100\n",
      "4500/4500 [==============================] - 32s 7ms/step - loss: 0.3494 - acc: 0.8712 - val_loss: 0.3547 - val_acc: 0.8649\n",
      "Epoch 52/100\n",
      "4500/4500 [==============================] - 32s 7ms/step - loss: 0.3498 - acc: 0.8691 - val_loss: 0.3482 - val_acc: 0.8690\n",
      "Epoch 53/100\n",
      "4500/4500 [==============================] - 32s 7ms/step - loss: 0.3467 - acc: 0.8700 - val_loss: 0.3483 - val_acc: 0.8674\n",
      "Epoch 54/100\n",
      "4500/4500 [==============================] - 32s 7ms/step - loss: 0.3428 - acc: 0.8714 - val_loss: 0.3682 - val_acc: 0.8549\n",
      "Epoch 55/100\n",
      "4500/4500 [==============================] - 32s 7ms/step - loss: 0.3419 - acc: 0.8713 - val_loss: 0.3503 - val_acc: 0.8673\n",
      "Epoch 56/100\n",
      "4500/4500 [==============================] - 32s 7ms/step - loss: 0.3384 - acc: 0.8725 - val_loss: 0.3393 - val_acc: 0.8699\n",
      "Epoch 57/100\n",
      "4500/4500 [==============================] - 32s 7ms/step - loss: 0.3365 - acc: 0.8717 - val_loss: 0.3371 - val_acc: 0.8704\n",
      "Epoch 58/100\n",
      "4500/4500 [==============================] - 32s 7ms/step - loss: 0.3357 - acc: 0.8706 - val_loss: 0.3381 - val_acc: 0.8706\n",
      "Epoch 59/100\n",
      "4500/4500 [==============================] - 32s 7ms/step - loss: 0.3375 - acc: 0.8684 - val_loss: 0.3301 - val_acc: 0.8785\n",
      "Epoch 60/100\n",
      "4500/4500 [==============================] - 32s 7ms/step - loss: 0.3308 - acc: 0.8737 - val_loss: 0.3437 - val_acc: 0.8701\n",
      "Epoch 61/100\n",
      "4500/4500 [==============================] - 32s 7ms/step - loss: 0.3296 - acc: 0.8727 - val_loss: 0.3368 - val_acc: 0.8663\n",
      "Epoch 62/100\n",
      "4500/4500 [==============================] - 32s 7ms/step - loss: 0.3259 - acc: 0.8741 - val_loss: 0.3312 - val_acc: 0.8710\n",
      "Epoch 63/100\n",
      "4500/4500 [==============================] - 32s 7ms/step - loss: 0.3298 - acc: 0.8708 - val_loss: 0.3300 - val_acc: 0.8699\n",
      "Epoch 64/100\n",
      "4500/4500 [==============================] - 33s 7ms/step - loss: 0.3217 - acc: 0.8751 - val_loss: 0.3260 - val_acc: 0.8750\n",
      "Epoch 65/100\n",
      "4500/4500 [==============================] - 32s 7ms/step - loss: 0.3253 - acc: 0.8716 - val_loss: 0.3300 - val_acc: 0.8701\n",
      "Epoch 66/100\n",
      "4500/4500 [==============================] - 32s 7ms/step - loss: 0.3258 - acc: 0.8709 - val_loss: 0.3222 - val_acc: 0.8739\n",
      "Epoch 67/100\n",
      "4500/4500 [==============================] - 32s 7ms/step - loss: 0.3212 - acc: 0.8734 - val_loss: 0.3170 - val_acc: 0.8787\n",
      "Epoch 68/100\n",
      "4500/4500 [==============================] - 33s 7ms/step - loss: 0.3217 - acc: 0.8724 - val_loss: 0.3215 - val_acc: 0.8729\n",
      "Epoch 69/100\n",
      "4500/4500 [==============================] - 32s 7ms/step - loss: 0.3166 - acc: 0.8752 - val_loss: 0.3141 - val_acc: 0.8779\n",
      "Epoch 70/100\n",
      "4500/4500 [==============================] - 32s 7ms/step - loss: 0.3141 - acc: 0.8765 - val_loss: 0.3137 - val_acc: 0.8778\n",
      "Epoch 71/100\n",
      "4500/4500 [==============================] - 33s 7ms/step - loss: 0.3172 - acc: 0.8736 - val_loss: 0.3154 - val_acc: 0.8775\n",
      "Epoch 72/100\n",
      "4500/4500 [==============================] - 33s 7ms/step - loss: 0.3113 - acc: 0.8775 - val_loss: 0.3105 - val_acc: 0.8812\n",
      "Epoch 73/100\n",
      "4500/4500 [==============================] - 32s 7ms/step - loss: 0.3096 - acc: 0.8770 - val_loss: 0.3264 - val_acc: 0.8692\n",
      "Epoch 74/100\n",
      "4500/4500 [==============================] - 32s 7ms/step - loss: 0.3108 - acc: 0.8768 - val_loss: 0.3112 - val_acc: 0.8775\n",
      "Epoch 75/100\n",
      "4500/4500 [==============================] - 33s 7ms/step - loss: 0.3112 - acc: 0.8750 - val_loss: 0.3074 - val_acc: 0.8794\n",
      "Epoch 76/100\n",
      "4500/4500 [==============================] - 32s 7ms/step - loss: 0.3086 - acc: 0.8769 - val_loss: 0.3092 - val_acc: 0.8771\n",
      "Epoch 77/100\n",
      "4500/4500 [==============================] - 32s 7ms/step - loss: 0.3072 - acc: 0.8770 - val_loss: 0.3132 - val_acc: 0.8812\n",
      "Epoch 78/100\n",
      "4500/4500 [==============================] - 34s 7ms/step - loss: 0.3055 - acc: 0.8774 - val_loss: 0.3207 - val_acc: 0.8703\n",
      "Epoch 79/100\n",
      "4500/4500 [==============================] - 34s 7ms/step - loss: 0.3038 - acc: 0.8782 - val_loss: 0.3044 - val_acc: 0.8797\n",
      "Epoch 80/100\n",
      "4500/4500 [==============================] - 32s 7ms/step - loss: 0.3057 - acc: 0.8761 - val_loss: 0.3067 - val_acc: 0.8792\n",
      "Epoch 81/100\n",
      "4500/4500 [==============================] - 33s 7ms/step - loss: 0.3054 - acc: 0.8768 - val_loss: 0.3035 - val_acc: 0.8758\n",
      "Epoch 82/100\n",
      "4500/4500 [==============================] - 32s 7ms/step - loss: 0.3030 - acc: 0.8770 - val_loss: 0.3009 - val_acc: 0.8826\n",
      "Epoch 83/100\n",
      "4500/4500 [==============================] - 33s 7ms/step - loss: 0.3051 - acc: 0.8764 - val_loss: 0.3009 - val_acc: 0.8805\n",
      "Epoch 84/100\n",
      "4500/4500 [==============================] - 33s 7ms/step - loss: 0.3010 - acc: 0.8779 - val_loss: 0.3095 - val_acc: 0.8720\n",
      "Epoch 85/100\n",
      "4500/4500 [==============================] - 33s 7ms/step - loss: 0.3018 - acc: 0.8768 - val_loss: 0.2987 - val_acc: 0.8804\n",
      "Epoch 86/100\n",
      "4500/4500 [==============================] - 33s 7ms/step - loss: 0.3008 - acc: 0.8775 - val_loss: 0.2983 - val_acc: 0.8806\n",
      "Epoch 87/100\n",
      "4500/4500 [==============================] - 32s 7ms/step - loss: 0.2991 - acc: 0.8787 - val_loss: 0.2989 - val_acc: 0.8800\n",
      "Epoch 88/100\n",
      "4500/4500 [==============================] - 33s 7ms/step - loss: 0.2992 - acc: 0.8781 - val_loss: 0.2964 - val_acc: 0.8822\n",
      "Epoch 89/100\n",
      "4500/4500 [==============================] - 33s 7ms/step - loss: 0.3027 - acc: 0.8757 - val_loss: 0.3036 - val_acc: 0.8782\n",
      "Epoch 90/100\n",
      "4500/4500 [==============================] - 33s 7ms/step - loss: 0.2991 - acc: 0.8779 - val_loss: 0.2987 - val_acc: 0.8816\n",
      "Epoch 91/100\n",
      "4500/4500 [==============================] - 35s 8ms/step - loss: 0.2983 - acc: 0.8782 - val_loss: 0.3022 - val_acc: 0.8805\n",
      "Epoch 92/100\n",
      "4500/4500 [==============================] - 34s 8ms/step - loss: 0.2970 - acc: 0.8784 - val_loss: 0.3040 - val_acc: 0.8721\n",
      "Epoch 93/100\n",
      "4500/4500 [==============================] - 35s 8ms/step - loss: 0.2973 - acc: 0.8776 - val_loss: 0.2956 - val_acc: 0.8797\n",
      "Epoch 94/100\n",
      "4500/4500 [==============================] - 33s 7ms/step - loss: 0.2960 - acc: 0.8788 - val_loss: 0.3008 - val_acc: 0.8751\n",
      "Epoch 95/100\n",
      "4500/4500 [==============================] - 33s 7ms/step - loss: 0.2938 - acc: 0.8793 - val_loss: 0.3002 - val_acc: 0.8739\n",
      "Epoch 96/100\n",
      "4500/4500 [==============================] - 33s 7ms/step - loss: 0.2984 - acc: 0.8768 - val_loss: 0.3208 - val_acc: 0.8612\n",
      "Epoch 97/100\n",
      "4500/4500 [==============================] - 34s 7ms/step - loss: 0.2978 - acc: 0.8775 - val_loss: 0.3238 - val_acc: 0.8680\n",
      "Epoch 98/100\n",
      "4500/4500 [==============================] - 34s 8ms/step - loss: 0.2947 - acc: 0.8788 - val_loss: 0.3151 - val_acc: 0.8631\n",
      "Epoch 99/100\n",
      "4500/4500 [==============================] - 33s 7ms/step - loss: 0.2956 - acc: 0.8778 - val_loss: 0.2954 - val_acc: 0.8772\n",
      "Epoch 100/100\n",
      "4500/4500 [==============================] - 33s 7ms/step - loss: 0.2927 - acc: 0.8792 - val_loss: 0.3012 - val_acc: 0.8790\n"
     ]
    }
   ],
   "source": [
    "cnn.compile(loss='categorical_crossentropy', optimizer='adam', metrics = ['accuracy'])\n",
    "history = cnn.fit(x_train, y_train, epochs=num_epoch, validation_split=0.1)"
   ]
  },
  {
   "cell_type": "code",
   "execution_count": 32,
   "metadata": {
    "colab": {},
    "colab_type": "code",
    "id": "PgzaXZxqdEZv"
   },
   "outputs": [],
   "source": [
    "def getError(n):\n",
    "  return 1-n\n",
    "\n",
    "train_errors = map(getError, history.history['acc'])\n",
    "val_errors = map(getError, history.history['val_acc'])\n",
    "\n",
    "train_err = list(train_errors)\n",
    "val_err = list(val_errors)"
   ]
  },
  {
   "cell_type": "code",
   "execution_count": 33,
   "metadata": {
    "colab": {
     "base_uri": "https://localhost:8080/",
     "height": 295
    },
    "colab_type": "code",
    "id": "pSvy1MuqZbU5",
    "outputId": "14a82672-08b8-474b-b801-8aa1388e830d"
   },
   "outputs": [
    {
     "data": {
      "image/png": "[encoded data removed]",
      "text/plain": [
       "<Figure size 432x288 with 1 Axes>"
      ]
     },
     "metadata": {
      "needs_background": "light"
     },
     "output_type": "display_data"
    }
   ],
   "source": [
    "plt.plot(train_err)\n",
    "plt.plot(val_err)\n",
    "plt.title('Train vs Validation(test) Error')\n",
    "plt.ylabel('Error')\n",
    "plt.xlabel('Epoch')\n",
    "plt.legend(['Train', 'Validation(test)'], loc='upper right')\n",
    "plt.show()"
   ]
  },
  {
   "cell_type": "code",
   "execution_count": 34,
   "metadata": {
    "colab": {},
    "colab_type": "code",
    "id": "9t5SMTQkaBGn"
   },
   "outputs": [],
   "source": [
    "prediction = cnn.predict(x_test)"
   ]
  },
  {
   "cell_type": "code",
   "execution_count": 35,
   "metadata": {
    "colab": {},
    "colab_type": "code",
    "id": "f44vJc-PaVFl"
   },
   "outputs": [],
   "source": [
    "a, b, c, d = prediction.shape\n",
    "prediction = prediction.reshape((a*b*c, d))"
   ]
  },
  {
   "cell_type": "code",
   "execution_count": 36,
   "metadata": {
    "colab": {},
    "colab_type": "code",
    "id": "d0CmDmczevS7"
   },
   "outputs": [],
   "source": [
    "#prediction.shape"
   ]
  },
  {
   "cell_type": "code",
   "execution_count": 37,
   "metadata": {
    "colab": {},
    "colab_type": "code",
    "id": "N8jDdIGXeYKw"
   },
   "outputs": [],
   "source": [
    "pred = prediction[:, 0:3]\n",
    "#pred.shape"
   ]
  },
  {
   "cell_type": "code",
   "execution_count": 38,
   "metadata": {
    "colab": {},
    "colab_type": "code",
    "id": "mRBm3wgNdQc6"
   },
   "outputs": [],
   "source": [
    "for i in range(len(prediction)):\n",
    "  pred[i] = kmeans.cluster_centers_[np.argmax(prediction[i])]"
   ]
  },
  {
   "cell_type": "code",
   "execution_count": 39,
   "metadata": {
    "colab": {
     "base_uri": "https://localhost:8080/",
     "height": 68
    },
    "colab_type": "code",
    "id": "C3BG6YWmhnt8",
    "outputId": "c7f418a3-e9ad-4826-d075-ea7be0dbc429"
   },
   "outputs": [
    {
     "name": "stdout",
     "output_type": "stream",
     "text": [
      "Train Errors: [0.49639040803909307, 0.39975694433848064, 0.37190451383590695, 0.4580907118055556, 0.4504164495468139, 0.44727864572736953, 0.4414192708333333, 0.4406078558497959, 0.4396174045668708, 0.26799826383590697, 0.26550889762242635, 0.2650909289254083, 0.26103819433848063, 0.26075629350874163, 0.26174392355812925, 0.25715429676903623, 0.2584264321857028, 0.2563320313029819, 0.2572688802083334, 0.2565455729166667, 0.25719357649485275, 0.242779513835907, 0.15652777767181392, 0.14415646701388884, 0.14339930560853742, 0.14161436642540826, 0.14370638026131521, 0.14243098947736954, 0.13994140619701811, 0.14217209196090697, 0.14073437499999997, 0.14595399310853752, 0.1373676214218139, 0.13978298621707497, 0.1430744357638889, 0.13861349821090696, 0.13644921885596384, 0.13569140624999998, 0.13755251730812923, 0.1358943141301473, 0.13614344628651942, 0.13328146696090704, 0.13378407118055557, 0.13603797737757362, 0.13435828982459175, 0.1319822049670749, 0.1357215710745917, 0.13269661447736947, 0.13044487852520414, 0.13097113704681396, 0.1288038194444444, 0.13086371527777774, 0.1300332030190362, 0.12855381955040823, 0.1287413194974264, 0.12746006944444443, 0.12827842887242635, 0.12939583343929717, 0.13155989593929718, 0.1263365884886848, 0.12727105045318599, 0.12587044270833336, 0.1291881509357029, 0.12485481781429719, 0.12835525173611106, 0.12906423621707497, 0.12663042524125845, 0.12755099831687078, 0.12480946191151931, 0.12349500857459172, 0.1264459634357028, 0.12249587673611106, 0.12302061642540829, 0.12323719612757367, 0.1249650608698527, 0.1231026476224264, 0.12303146696090694, 0.12264105892181398, 0.12177343755298187, 0.12387326394187081, 0.12319335926903618, 0.12298545996348065, 0.12362478298611113, 0.12206532123353742, 0.12320703119701815, 0.12254340288374155, 0.12131662315792513, 0.12190364572736956, 0.1242892795138889, 0.12207335064146252, 0.12181857649485273, 0.12155729161368478, 0.12236957459979592, 0.121200954914093, 0.12066992182201808, 0.12318033854166666, 0.12251171869701805, 0.12117361111111113, 0.12215798605812922, 0.12075911463631528] \n",
      "\n",
      "last Train Error 0.12075911463631528\n",
      "average Train Error 0.17430108289188811\n",
      "lowest Train Error 0.12066992182201808\n",
      "Test Error : 0.11852441406250003\n"
     ]
    }
   ],
   "source": [
    "score = cnn.evaluate(x_test, y_test, verbose=0)\n",
    "print('Train Errors:', train_err, '\\n')\n",
    "print('last Train Error', train_err[-1])\n",
    "print('average Train Error', np.array(train_err).mean())\n",
    "print('lowest Train Error', np.array(train_err).min())\n",
    "print('Test Error :', 1 - score[1])"
   ]
  },
  {
   "cell_type": "code",
   "execution_count": 40,
   "metadata": {
    "colab": {
     "base_uri": "https://localhost:8080/",
     "height": 151
    },
    "colab_type": "code",
    "id": "9KwcHU65gU46",
    "outputId": "d96ca143-8ca4-4175-d47e-2e0db3f21c91"
   },
   "outputs": [
    {
     "name": "stdout",
     "output_type": "stream",
     "text": [
      "original\n"
     ]
    },
    {
     "data": {
      "image/png": "[encoded data removed]",
      "text/plain": [
       "<Figure size 432x288 with 10 Axes>"
      ]
     },
     "metadata": {
      "needs_background": "light"
     },
     "output_type": "display_data"
    }
   ],
   "source": [
    "for i in range(0, 10):\n",
    "  axis = plt.subplot(5, 5, i+1)\n",
    "  arr = bird_set[5000 + i]\n",
    "  axis.imshow(arr)\n",
    "  plt.axis('off')\n",
    "print('original')\n",
    "plt.show()"
   ]
  },
  {
   "cell_type": "code",
   "execution_count": 41,
   "metadata": {
    "colab": {
     "base_uri": "https://localhost:8080/",
     "height": 151
    },
    "colab_type": "code",
    "id": "O6sFbp0YeQ9V",
    "outputId": "0edbaefb-9bba-4058-b84c-1096a4521314"
   },
   "outputs": [
    {
     "name": "stdout",
     "output_type": "stream",
     "text": [
      "grayscale input\n"
     ]
    },
    {
     "data": {
      "image/png": "[encoded data removed]",
      "text/plain": [
       "<Figure size 432x288 with 10 Axes>"
      ]
     },
     "metadata": {
      "needs_background": "light"
     },
     "output_type": "display_data"
    }
   ],
   "source": [
    "# grayscale input\n",
    "\n",
    "for i in range(0,10):\n",
    "    axis = plt.subplot(5,5,i+1)\n",
    "    arr = x_test.reshape((1000,32,32))[i]\n",
    "    #arr = tp[i]\n",
    "    axis.imshow(arr,cmap='gray')\n",
    "    plt.axis('off')\n",
    "print('grayscale input')\n",
    "plt.show()"
   ]
  },
  {
   "cell_type": "code",
   "execution_count": 43,
   "metadata": {
    "colab": {
     "base_uri": "https://localhost:8080/",
     "height": 151
    },
    "colab_type": "code",
    "id": "Ko3d-vKBhc-m",
    "outputId": "5766c28f-8977-408e-814a-548f060c6696"
   },
   "outputs": [
    {
     "name": "stdout",
     "output_type": "stream",
     "text": [
      "predicted one\n"
     ]
    },
    {
     "data": {
      "image/png": "[encoded data removed]",
      "text/plain": [
       "<Figure size 432x288 with 10 Axes>"
      ]
     },
     "metadata": {
      "needs_background": "light"
     },
     "output_type": "display_data"
    }
   ],
   "source": [
    "### pred = pred.reshape((1000, 32, 32, 3))\n",
    "\n",
    "for i in range(0,10):\n",
    "    axis = plt.subplot(5,5,i+1)\n",
    "    arr = pred[i]\n",
    "    axis.imshow(arr)\n",
    "    plt.axis('off')\n",
    "print('predicted one')\n",
    "plt.show()"
   ]
  },
  {
   "cell_type": "code",
   "execution_count": null,
   "metadata": {},
   "outputs": [],
   "source": []
  }
 ],
 "metadata": {
  "accelerator": "TPU",
  "colab": {
   "collapsed_sections": [],
   "name": "Seongoh_Ryoo_HW7_part2.ipynb",
   "provenance": [],
   "version": "0.3.2"
  },
  "kernelspec": {
   "display_name": "Python 3",
   "language": "python",
   "name": "python3"
  },
  "language_info": {
   "codemirror_mode": {
    "name": "ipython",
    "version": 3
   },
   "file_extension": ".py",
   "mimetype": "text/x-python",
   "name": "python",
   "nbconvert_exporter": "python",
   "pygments_lexer": "ipython3",
   "version": "3.6.8"
  }
 },
 "nbformat": 4,
 "nbformat_minor": 1
}
